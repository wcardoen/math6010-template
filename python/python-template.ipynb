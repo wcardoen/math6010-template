{
 "cells": [
  {
   "cell_type": "markdown",
   "id": "b3c13662",
   "metadata": {},
   "source": [
    "## MATH-6010 Template"
   ]
  },
  {
   "cell_type": "code",
   "execution_count": null,
   "id": "fc9213ae",
   "metadata": {},
   "outputs": [],
   "source": [
    "%matplotlib inline\n",
    "import numpy as np\n",
    "import matplotlib.pyplot as plt\n",
    "import pandas as pd"
   ]
  },
  {
   "cell_type": "code",
   "execution_count": null,
   "id": "c6889e69",
   "metadata": {},
   "outputs": [],
   "source": [
    "# Read the data file\n",
    "inpFilename = '../data/insurance.csv'\n",
    "try:\n",
    "    df = pd.read_csv(inpFilename,delimiter=',')\n",
    "except:    \n",
    "    print(f\"ERROR::File {inpFilename} can not be read\")"
   ]
  },
  {
   "cell_type": "code",
   "execution_count": null,
   "id": "beaae05e",
   "metadata": {},
   "outputs": [],
   "source": [
    "# Dimensionality + col. names\n",
    "print(f\"Dimension of the data frame:{df.shape}\")\n",
    "print(f\"Col. names:\")\n",
    "for item in df.keys():\n",
    "    print(f\"  '{item}'\")"
   ]
  },
  {
   "cell_type": "code",
   "execution_count": null,
   "id": "3c607cea",
   "metadata": {},
   "outputs": [],
   "source": [
    "# Header of the dataframe\n",
    "df.head()"
   ]
  },
  {
   "cell_type": "code",
   "execution_count": null,
   "id": "416f43e4",
   "metadata": {},
   "outputs": [],
   "source": [
    "# Plot1: Make a plot using matplotlib\n",
    "img_name='../img/imgpy1.jpeg'\n",
    "#plt.title(r' Charges as function of the BMI')\n",
    "plt.plot(df['bmi'],df['charges'],'r.')\n",
    "#plt.show()\n",
    "plt.savefig(img_name,dpi=300)"
   ]
  },
  {
   "cell_type": "code",
   "execution_count": null,
   "id": "651ed415",
   "metadata": {},
   "outputs": [],
   "source": [
    "# Plot2: Histogram of the ages\n",
    "print(f\" Min. age:{np.min(df['age'])}\")\n",
    "print(f\" Max. age:{np.max(df['age'])}\")"
   ]
  },
  {
   "cell_type": "code",
   "execution_count": null,
   "id": "c601fc14",
   "metadata": {},
   "outputs": [],
   "source": [
    "NUM_BINS=10\n",
    "IMG_NAME='../img/imgpy2.jpeg'\n",
    "n,bins, patches= plt.hist(df['age'],NUM_BINS,facecolor='blue',alpha=0.5)\n",
    "plt.xlabel('age')\n",
    "plt.ylabel('counts')\n",
    "#plt.title(r'Histogram: counts=f(age)')\n",
    "#plt.show()\n",
    "plt.savefig(IMG_NAME,dpi=300)\n",
    "print(bins)"
   ]
  },
  {
   "cell_type": "code",
   "execution_count": null,
   "id": "0f9e8f8b",
   "metadata": {},
   "outputs": [],
   "source": []
  }
 ],
 "metadata": {
  "kernelspec": {
   "display_name": "Python 3 (ipykernel)",
   "language": "python",
   "name": "python3"
  },
  "language_info": {
   "codemirror_mode": {
    "name": "ipython",
    "version": 3
   },
   "file_extension": ".py",
   "mimetype": "text/x-python",
   "name": "python",
   "nbconvert_exporter": "python",
   "pygments_lexer": "ipython3",
   "version": "3.9.7"
  },
  "latex_envs": {
   "LaTeX_envs_menu_present": true,
   "autoclose": false,
   "autocomplete": true,
   "bibliofile": "biblio.bib",
   "cite_by": "apalike",
   "current_citInitial": 1,
   "eqLabelWithNumbers": true,
   "eqNumInitial": 1,
   "hotkeys": {
    "equation": "Ctrl-E",
    "itemize": "Ctrl-I"
   },
   "labels_anchors": false,
   "latex_user_defs": false,
   "report_style_numbering": false,
   "user_envs_cfg": false
  },
  "toc": {
   "base_numbering": 1,
   "nav_menu": {},
   "number_sections": true,
   "sideBar": true,
   "skip_h1_title": false,
   "title_cell": "Table of Contents",
   "title_sidebar": "Contents",
   "toc_cell": false,
   "toc_position": {},
   "toc_section_display": true,
   "toc_window_display": false
  }
 },
 "nbformat": 4,
 "nbformat_minor": 5
}
